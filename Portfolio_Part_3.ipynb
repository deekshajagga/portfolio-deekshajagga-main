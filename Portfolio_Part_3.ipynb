{
 "cells": [
  {
   "cell_type": "markdown",
   "id": "e4aef348",
   "metadata": {},
   "source": [
    "## Portfolio Part 3"
   ]
  },
  {
   "cell_type": "markdown",
   "id": "0619c315",
   "metadata": {},
   "source": [
    "In this Portfolio task, you will continue working with the dataset you have used in portfolio 2. But the difference is that the rating column has been changed with like or dislike values. Your task is to train classification models to predict whether a user like or dislike an item.  \n",
    "\n",
    "\n",
    "The header of the csv file is shown below. \n",
    "\n",
    "| userId | timestamp | review | item| rating | helpfulness | gender | category |\n",
    "    | ---- | ---- | ---- | ---- | ---- | ---- | ---- | ---- | \n",
    "    \n",
    "#### Description of Fields\n",
    "\n",
    "* __userId__ - the user's id\n",
    "* __timestamp__ - the timestamp indicating when the user rated the shopping item\n",
    "* __review__ - the user's review comments of the item\n",
    "* __item__ - the name of the item\n",
    "* __rating__ - the user like or dislike the item\n",
    "* __helpfulness__ - average rating from other users on whether the review comment is helpful. 6-helpful, 0-not helpful. \n",
    "* __gender__ - the gender of the user, F- female, M-male\n",
    "* __category__ - the category of the shopping item\n",
    "\n",
    "\n",
    "Your high level goal in this notebook is to try to build and evaluate predictive models for 'rating' from other available features - predict the value of the __rating__ field in the data from some of the other fields. More specifically, you need to complete the following major steps: \n",
    "1) Explore the data. Clean the data if necessary. For example, remove abnormal instanaces and replace missing values.\n",
    "2) Convert object features into digit features by using an encoder\n",
    "3) Study the correlation between these features. \n",
    "4) Split the dataset and train a logistic regression model to predict 'rating' based on other features. Evaluate the accuracy of your model.\n",
    "5) Split the dataset and train a KNN model to predict 'rating' based on other features. You can set K with an ad-hoc manner in this step. Evaluate the accuracy of your model.\n",
    "6) Tune the hyper-parameter K in KNN to see how it influences the prediction performance\n",
    "\n",
    "Note 1: We did not provide any description of each step in the notebook. You should learn how to properly comment your notebook by yourself to make your notebook file readable. \n",
    "\n",
    "Note 2: you are not being evaluated on the ___accuracy___ of the model but on the ___process___ that you use to generate it. Please use both ___Logistic Regression model___ and ___KNN model___ for solving this classification problem. Accordingly, discuss the performance of these two methods."
   ]
  },
  {
   "cell_type": "code",
   "execution_count": 1,
   "id": "47be0d08",
   "metadata": {},
   "outputs": [],
   "source": [
    "import pandas as pd\n",
    "import numpy as np\n",
    "import matplotlib.pyplot as plt\n",
    "import seaborn as sns\n",
    "from sklearn.model_selection import train_test_split\n",
    "from sklearn import linear_model\n",
    "from sklearn.metrics import r2_score\n",
    "from sklearn.linear_model import LogisticRegression\n",
    "from sklearn.metrics import confusion_matrix, accuracy_score\n",
    "from sklearn.feature_selection import RFE\n",
    "import warnings\n",
    "from sklearn.neighbors import KNeighborsClassifier\n",
    "from sklearn.metrics import roc_auc_score\n",
    "from sklearn.model_selection import GridSearchCV\n",
    "from sklearn.metrics import classification_report\n",
    "warnings.filterwarnings(\"ignore\")\n",
    "import os\n",
    "import math\n",
    "from collections import Counter\n",
    "from sklearn import metrics\n",
    "\n",
    "\n",
    "%matplotlib inline"
   ]
  },
  {
   "cell_type": "code",
   "execution_count": 2,
   "id": "84c57251",
   "metadata": {},
   "outputs": [
    {
     "data": {
      "text/html": [
       "<div>\n",
       "<style scoped>\n",
       "    .dataframe tbody tr th:only-of-type {\n",
       "        vertical-align: middle;\n",
       "    }\n",
       "\n",
       "    .dataframe tbody tr th {\n",
       "        vertical-align: top;\n",
       "    }\n",
       "\n",
       "    .dataframe thead th {\n",
       "        text-align: right;\n",
       "    }\n",
       "</style>\n",
       "<table border=\"1\" class=\"dataframe\">\n",
       "  <thead>\n",
       "    <tr style=\"text-align: right;\">\n",
       "      <th></th>\n",
       "      <th>userId</th>\n",
       "      <th>timestamp</th>\n",
       "      <th>review</th>\n",
       "      <th>item</th>\n",
       "      <th>rating</th>\n",
       "      <th>helpfulness</th>\n",
       "      <th>gender</th>\n",
       "      <th>category</th>\n",
       "    </tr>\n",
       "  </thead>\n",
       "  <tbody>\n",
       "    <tr>\n",
       "      <th>0</th>\n",
       "      <td>4259</td>\n",
       "      <td>11900</td>\n",
       "      <td>Finally, Something for (Relatively) Nothing</td>\n",
       "      <td>MyPoints.com</td>\n",
       "      <td>like</td>\n",
       "      <td>4</td>\n",
       "      <td>F</td>\n",
       "      <td>Online Stores &amp; Services</td>\n",
       "    </tr>\n",
       "    <tr>\n",
       "      <th>1</th>\n",
       "      <td>4259</td>\n",
       "      <td>12000</td>\n",
       "      <td>Shocking!</td>\n",
       "      <td>Sixth Sense</td>\n",
       "      <td>like</td>\n",
       "      <td>4</td>\n",
       "      <td>F</td>\n",
       "      <td>Movies</td>\n",
       "    </tr>\n",
       "    <tr>\n",
       "      <th>2</th>\n",
       "      <td>4259</td>\n",
       "      <td>12000</td>\n",
       "      <td>Simply Shaggadelic!</td>\n",
       "      <td>Austin Powers: The Spy Who Shagged Me</td>\n",
       "      <td>like</td>\n",
       "      <td>4</td>\n",
       "      <td>F</td>\n",
       "      <td>Movies</td>\n",
       "    </tr>\n",
       "    <tr>\n",
       "      <th>3</th>\n",
       "      <td>4259</td>\n",
       "      <td>12000</td>\n",
       "      <td>Better Than The First!</td>\n",
       "      <td>Toy Story 2</td>\n",
       "      <td>like</td>\n",
       "      <td>3</td>\n",
       "      <td>F</td>\n",
       "      <td>Movies</td>\n",
       "    </tr>\n",
       "    <tr>\n",
       "      <th>4</th>\n",
       "      <td>4259</td>\n",
       "      <td>12000</td>\n",
       "      <td>Blair Witch made me appreciate this</td>\n",
       "      <td>Star Wars Episode I: The Phantom Menace</td>\n",
       "      <td>dislike</td>\n",
       "      <td>4</td>\n",
       "      <td>F</td>\n",
       "      <td>Movies</td>\n",
       "    </tr>\n",
       "    <tr>\n",
       "      <th>5</th>\n",
       "      <td>4259</td>\n",
       "      <td>12100</td>\n",
       "      <td>Come here at least once in your life... stay a...</td>\n",
       "      <td>New York City</td>\n",
       "      <td>like</td>\n",
       "      <td>4</td>\n",
       "      <td>F</td>\n",
       "      <td>Hotels &amp; Travel</td>\n",
       "    </tr>\n",
       "    <tr>\n",
       "      <th>6</th>\n",
       "      <td>4259</td>\n",
       "      <td>12400</td>\n",
       "      <td>I joined for the free camera, and stood for no...</td>\n",
       "      <td>Earthlink</td>\n",
       "      <td>like</td>\n",
       "      <td>3</td>\n",
       "      <td>F</td>\n",
       "      <td>Online Stores &amp; Services</td>\n",
       "    </tr>\n",
       "    <tr>\n",
       "      <th>7</th>\n",
       "      <td>4259</td>\n",
       "      <td>12700</td>\n",
       "      <td>They Should've Fooled the American Public</td>\n",
       "      <td>Blair Witch Project</td>\n",
       "      <td>dislike</td>\n",
       "      <td>4</td>\n",
       "      <td>F</td>\n",
       "      <td>Movies</td>\n",
       "    </tr>\n",
       "    <tr>\n",
       "      <th>8</th>\n",
       "      <td>4259</td>\n",
       "      <td>51600</td>\n",
       "      <td>A Short List of Things to Remember in NYC</td>\n",
       "      <td>New York City</td>\n",
       "      <td>like</td>\n",
       "      <td>4</td>\n",
       "      <td>F</td>\n",
       "      <td>Hotels &amp; Travel</td>\n",
       "    </tr>\n",
       "    <tr>\n",
       "      <th>9</th>\n",
       "      <td>4259</td>\n",
       "      <td>60200</td>\n",
       "      <td>Do you know what a metaphysical can of worms t...</td>\n",
       "      <td>Being John Malkovich</td>\n",
       "      <td>like</td>\n",
       "      <td>4</td>\n",
       "      <td>F</td>\n",
       "      <td>Movies</td>\n",
       "    </tr>\n",
       "  </tbody>\n",
       "</table>\n",
       "</div>"
      ],
      "text/plain": [
       "   userId  timestamp                                             review  \\\n",
       "0    4259      11900        Finally, Something for (Relatively) Nothing   \n",
       "1    4259      12000                                          Shocking!   \n",
       "2    4259      12000                                Simply Shaggadelic!   \n",
       "3    4259      12000                             Better Than The First!   \n",
       "4    4259      12000                Blair Witch made me appreciate this   \n",
       "5    4259      12100  Come here at least once in your life... stay a...   \n",
       "6    4259      12400  I joined for the free camera, and stood for no...   \n",
       "7    4259      12700          They Should've Fooled the American Public   \n",
       "8    4259      51600          A Short List of Things to Remember in NYC   \n",
       "9    4259      60200  Do you know what a metaphysical can of worms t...   \n",
       "\n",
       "                                      item   rating  helpfulness gender  \\\n",
       "0                             MyPoints.com     like            4      F   \n",
       "1                              Sixth Sense     like            4      F   \n",
       "2    Austin Powers: The Spy Who Shagged Me     like            4      F   \n",
       "3                              Toy Story 2     like            3      F   \n",
       "4  Star Wars Episode I: The Phantom Menace  dislike            4      F   \n",
       "5                            New York City     like            4      F   \n",
       "6                                Earthlink     like            3      F   \n",
       "7                      Blair Witch Project  dislike            4      F   \n",
       "8                            New York City     like            4      F   \n",
       "9                     Being John Malkovich     like            4      F   \n",
       "\n",
       "                   category  \n",
       "0  Online Stores & Services  \n",
       "1                    Movies  \n",
       "2                    Movies  \n",
       "3                    Movies  \n",
       "4                    Movies  \n",
       "5           Hotels & Travel  \n",
       "6  Online Stores & Services  \n",
       "7                    Movies  \n",
       "8           Hotels & Travel  \n",
       "9                    Movies  "
      ]
     },
     "execution_count": 2,
     "metadata": {},
     "output_type": "execute_result"
    }
   ],
   "source": [
    "df = pd.read_csv('Portfolio 3.csv')\n",
    "df.head(10)"
   ]
  },
  {
   "cell_type": "code",
   "execution_count": 3,
   "id": "9642189a",
   "metadata": {},
   "outputs": [
    {
     "data": {
      "text/html": [
       "<div>\n",
       "<style scoped>\n",
       "    .dataframe tbody tr th:only-of-type {\n",
       "        vertical-align: middle;\n",
       "    }\n",
       "\n",
       "    .dataframe tbody tr th {\n",
       "        vertical-align: top;\n",
       "    }\n",
       "\n",
       "    .dataframe thead th {\n",
       "        text-align: right;\n",
       "    }\n",
       "</style>\n",
       "<table border=\"1\" class=\"dataframe\">\n",
       "  <thead>\n",
       "    <tr style=\"text-align: right;\">\n",
       "      <th></th>\n",
       "      <th>gender</th>\n",
       "      <th>category</th>\n",
       "      <th>review</th>\n",
       "      <th>rating</th>\n",
       "      <th>item</th>\n",
       "    </tr>\n",
       "  </thead>\n",
       "  <tbody>\n",
       "    <tr>\n",
       "      <th>0</th>\n",
       "      <td>0</td>\n",
       "      <td>6</td>\n",
       "      <td>856</td>\n",
       "      <td>1</td>\n",
       "      <td>43</td>\n",
       "    </tr>\n",
       "    <tr>\n",
       "      <th>1</th>\n",
       "      <td>0</td>\n",
       "      <td>5</td>\n",
       "      <td>1985</td>\n",
       "      <td>1</td>\n",
       "      <td>62</td>\n",
       "    </tr>\n",
       "    <tr>\n",
       "      <th>2</th>\n",
       "      <td>0</td>\n",
       "      <td>5</td>\n",
       "      <td>2006</td>\n",
       "      <td>1</td>\n",
       "      <td>9</td>\n",
       "    </tr>\n",
       "    <tr>\n",
       "      <th>3</th>\n",
       "      <td>0</td>\n",
       "      <td>5</td>\n",
       "      <td>472</td>\n",
       "      <td>1</td>\n",
       "      <td>77</td>\n",
       "    </tr>\n",
       "    <tr>\n",
       "      <th>4</th>\n",
       "      <td>0</td>\n",
       "      <td>5</td>\n",
       "      <td>493</td>\n",
       "      <td>0</td>\n",
       "      <td>68</td>\n",
       "    </tr>\n",
       "    <tr>\n",
       "      <th>5</th>\n",
       "      <td>0</td>\n",
       "      <td>2</td>\n",
       "      <td>599</td>\n",
       "      <td>1</td>\n",
       "      <td>47</td>\n",
       "    </tr>\n",
       "    <tr>\n",
       "      <th>6</th>\n",
       "      <td>0</td>\n",
       "      <td>6</td>\n",
       "      <td>1232</td>\n",
       "      <td>1</td>\n",
       "      <td>23</td>\n",
       "    </tr>\n",
       "    <tr>\n",
       "      <th>7</th>\n",
       "      <td>0</td>\n",
       "      <td>5</td>\n",
       "      <td>2415</td>\n",
       "      <td>0</td>\n",
       "      <td>12</td>\n",
       "    </tr>\n",
       "    <tr>\n",
       "      <th>8</th>\n",
       "      <td>0</td>\n",
       "      <td>2</td>\n",
       "      <td>136</td>\n",
       "      <td>1</td>\n",
       "      <td>47</td>\n",
       "    </tr>\n",
       "    <tr>\n",
       "      <th>9</th>\n",
       "      <td>0</td>\n",
       "      <td>5</td>\n",
       "      <td>692</td>\n",
       "      <td>1</td>\n",
       "      <td>11</td>\n",
       "    </tr>\n",
       "    <tr>\n",
       "      <th>10</th>\n",
       "      <td>0</td>\n",
       "      <td>1</td>\n",
       "      <td>2339</td>\n",
       "      <td>1</td>\n",
       "      <td>76</td>\n",
       "    </tr>\n",
       "  </tbody>\n",
       "</table>\n",
       "</div>"
      ],
      "text/plain": [
       "    gender  category  review  rating  item\n",
       "0        0         6     856       1    43\n",
       "1        0         5    1985       1    62\n",
       "2        0         5    2006       1     9\n",
       "3        0         5     472       1    77\n",
       "4        0         5     493       0    68\n",
       "5        0         2     599       1    47\n",
       "6        0         6    1232       1    23\n",
       "7        0         5    2415       0    12\n",
       "8        0         2     136       1    47\n",
       "9        0         5     692       1    11\n",
       "10       0         1    2339       1    76"
      ]
     },
     "execution_count": 3,
     "metadata": {},
     "output_type": "execute_result"
    }
   ],
   "source": [
    "# Converting object features into digit features to find outliers \n",
    "\n",
    "# Gender= gender_code\n",
    "# Category= category_code\n",
    "# Review= review_code\n",
    "# Rating= rating_code\n",
    "\n",
    "from sklearn.preprocessing import OrdinalEncoder\n",
    "\n",
    "ord_enc = OrdinalEncoder(dtype=int)\n",
    "df[[\"gender\", \"category\", \"review\", \"rating\", \"item\"]] = ord_enc.fit_transform(df[[\"gender\", \"category\", \"review\", \"rating\", \"item\"]])\n",
    "df[[\"gender\", \"category\", \"review\", \"rating\", \"item\",]].head(11)"
   ]
  },
  {
   "cell_type": "code",
   "execution_count": 4,
   "id": "41004c62",
   "metadata": {},
   "outputs": [
    {
     "data": {
      "text/html": [
       "<div>\n",
       "<style scoped>\n",
       "    .dataframe tbody tr th:only-of-type {\n",
       "        vertical-align: middle;\n",
       "    }\n",
       "\n",
       "    .dataframe tbody tr th {\n",
       "        vertical-align: top;\n",
       "    }\n",
       "\n",
       "    .dataframe thead th {\n",
       "        text-align: right;\n",
       "    }\n",
       "</style>\n",
       "<table border=\"1\" class=\"dataframe\">\n",
       "  <thead>\n",
       "    <tr style=\"text-align: right;\">\n",
       "      <th></th>\n",
       "      <th>userId</th>\n",
       "      <th>timestamp</th>\n",
       "      <th>review</th>\n",
       "      <th>item</th>\n",
       "      <th>rating</th>\n",
       "      <th>helpfulness</th>\n",
       "      <th>gender</th>\n",
       "      <th>category</th>\n",
       "    </tr>\n",
       "  </thead>\n",
       "  <tbody>\n",
       "    <tr>\n",
       "      <th>0</th>\n",
       "      <td>4259</td>\n",
       "      <td>11900</td>\n",
       "      <td>856</td>\n",
       "      <td>43</td>\n",
       "      <td>1</td>\n",
       "      <td>4</td>\n",
       "      <td>0</td>\n",
       "      <td>6</td>\n",
       "    </tr>\n",
       "    <tr>\n",
       "      <th>1</th>\n",
       "      <td>4259</td>\n",
       "      <td>12000</td>\n",
       "      <td>1985</td>\n",
       "      <td>62</td>\n",
       "      <td>1</td>\n",
       "      <td>4</td>\n",
       "      <td>0</td>\n",
       "      <td>5</td>\n",
       "    </tr>\n",
       "    <tr>\n",
       "      <th>2</th>\n",
       "      <td>4259</td>\n",
       "      <td>12000</td>\n",
       "      <td>2006</td>\n",
       "      <td>9</td>\n",
       "      <td>1</td>\n",
       "      <td>4</td>\n",
       "      <td>0</td>\n",
       "      <td>5</td>\n",
       "    </tr>\n",
       "    <tr>\n",
       "      <th>3</th>\n",
       "      <td>4259</td>\n",
       "      <td>12000</td>\n",
       "      <td>472</td>\n",
       "      <td>77</td>\n",
       "      <td>1</td>\n",
       "      <td>3</td>\n",
       "      <td>0</td>\n",
       "      <td>5</td>\n",
       "    </tr>\n",
       "    <tr>\n",
       "      <th>4</th>\n",
       "      <td>4259</td>\n",
       "      <td>12000</td>\n",
       "      <td>493</td>\n",
       "      <td>68</td>\n",
       "      <td>0</td>\n",
       "      <td>4</td>\n",
       "      <td>0</td>\n",
       "      <td>5</td>\n",
       "    </tr>\n",
       "  </tbody>\n",
       "</table>\n",
       "</div>"
      ],
      "text/plain": [
       "   userId  timestamp  review  item  rating  helpfulness  gender  category\n",
       "0    4259      11900     856    43       1            4       0         6\n",
       "1    4259      12000    1985    62       1            4       0         5\n",
       "2    4259      12000    2006     9       1            4       0         5\n",
       "3    4259      12000     472    77       1            3       0         5\n",
       "4    4259      12000     493    68       0            4       0         5"
      ]
     },
     "execution_count": 4,
     "metadata": {},
     "output_type": "execute_result"
    }
   ],
   "source": [
    "# Overview of the dataset after converting categorical values into numerical values\n",
    "df.head()"
   ]
  },
  {
   "cell_type": "code",
   "execution_count": 5,
   "id": "51b38d1c",
   "metadata": {},
   "outputs": [
    {
     "data": {
      "text/plain": [
       "(array([1, 2, 3, 4, 5, 6, 7, 8]),\n",
       " [Text(1, 0, 'userId'),\n",
       "  Text(2, 0, 'timestamp'),\n",
       "  Text(3, 0, 'review'),\n",
       "  Text(4, 0, 'item'),\n",
       "  Text(5, 0, 'rating'),\n",
       "  Text(6, 0, 'helpfulness'),\n",
       "  Text(7, 0, 'gender'),\n",
       "  Text(8, 0, 'category')])"
      ]
     },
     "execution_count": 5,
     "metadata": {},
     "output_type": "execute_result"
    },
    {
     "data": {
      "image/png": "[encoded data removed]",
      "text/plain": [
       "<Figure size 432x288 with 1 Axes>"
      ]
     },
     "metadata": {
      "needs_background": "light"
     },
     "output_type": "display_data"
    }
   ],
   "source": [
    "# Finding outliers\n",
    "\n",
    "df.boxplot()\n",
    "plt.xticks(rotation=90)\n",
    "\n",
    "# The code extracting outliers in the category feature because majority is 'Movies'. We'll need to avoid this as removing these outliers would remove most of the dataset which is not ideal."
   ]
  },
  {
   "cell_type": "code",
   "execution_count": 6,
   "id": "e21115af",
   "metadata": {},
   "outputs": [
    {
     "data": {
      "text/plain": [
       "userId         0\n",
       "timestamp      0\n",
       "review         0\n",
       "item           0\n",
       "rating         0\n",
       "helpfulness    0\n",
       "gender         0\n",
       "category       0\n",
       "dtype: int64"
      ]
     },
     "execution_count": 6,
     "metadata": {},
     "output_type": "execute_result"
    }
   ],
   "source": [
    "# Counting and dropping null values\n",
    "\n",
    "df.isna().sum()\n",
    "\n",
    "# No null values "
   ]
  },
  {
   "cell_type": "code",
   "execution_count": 7,
   "id": "48e03199",
   "metadata": {},
   "outputs": [
    {
     "data": {
      "text/html": [
       "<div>\n",
       "<style scoped>\n",
       "    .dataframe tbody tr th:only-of-type {\n",
       "        vertical-align: middle;\n",
       "    }\n",
       "\n",
       "    .dataframe tbody tr th {\n",
       "        vertical-align: top;\n",
       "    }\n",
       "\n",
       "    .dataframe thead th {\n",
       "        text-align: right;\n",
       "    }\n",
       "</style>\n",
       "<table border=\"1\" class=\"dataframe\">\n",
       "  <thead>\n",
       "    <tr style=\"text-align: right;\">\n",
       "      <th></th>\n",
       "      <th>userId</th>\n",
       "      <th>timestamp</th>\n",
       "      <th>review</th>\n",
       "      <th>item</th>\n",
       "      <th>rating</th>\n",
       "      <th>helpfulness</th>\n",
       "      <th>gender</th>\n",
       "      <th>category</th>\n",
       "    </tr>\n",
       "  </thead>\n",
       "  <tbody>\n",
       "    <tr>\n",
       "      <th>userId</th>\n",
       "      <td>1.000000</td>\n",
       "      <td>-0.036399</td>\n",
       "      <td>0.013212</td>\n",
       "      <td>-0.002618</td>\n",
       "      <td>0.010844</td>\n",
       "      <td>-0.016841</td>\n",
       "      <td>0.056183</td>\n",
       "      <td>0.015408</td>\n",
       "    </tr>\n",
       "    <tr>\n",
       "      <th>timestamp</th>\n",
       "      <td>-0.036399</td>\n",
       "      <td>1.000000</td>\n",
       "      <td>-0.025036</td>\n",
       "      <td>0.024337</td>\n",
       "      <td>0.011579</td>\n",
       "      <td>0.003638</td>\n",
       "      <td>-0.049244</td>\n",
       "      <td>0.037118</td>\n",
       "    </tr>\n",
       "    <tr>\n",
       "      <th>review</th>\n",
       "      <td>0.013212</td>\n",
       "      <td>-0.025036</td>\n",
       "      <td>1.000000</td>\n",
       "      <td>0.168119</td>\n",
       "      <td>-0.046935</td>\n",
       "      <td>0.016170</td>\n",
       "      <td>-0.014422</td>\n",
       "      <td>0.012047</td>\n",
       "    </tr>\n",
       "    <tr>\n",
       "      <th>item</th>\n",
       "      <td>-0.002618</td>\n",
       "      <td>0.024337</td>\n",
       "      <td>0.168119</td>\n",
       "      <td>1.000000</td>\n",
       "      <td>0.013629</td>\n",
       "      <td>-0.010780</td>\n",
       "      <td>0.006231</td>\n",
       "      <td>-0.054699</td>\n",
       "    </tr>\n",
       "    <tr>\n",
       "      <th>rating</th>\n",
       "      <td>0.010844</td>\n",
       "      <td>0.011579</td>\n",
       "      <td>-0.046935</td>\n",
       "      <td>0.013629</td>\n",
       "      <td>1.000000</td>\n",
       "      <td>-0.016850</td>\n",
       "      <td>0.022576</td>\n",
       "      <td>-0.116312</td>\n",
       "    </tr>\n",
       "    <tr>\n",
       "      <th>helpfulness</th>\n",
       "      <td>-0.016841</td>\n",
       "      <td>0.003638</td>\n",
       "      <td>0.016170</td>\n",
       "      <td>-0.010780</td>\n",
       "      <td>-0.016850</td>\n",
       "      <td>1.000000</td>\n",
       "      <td>-0.046627</td>\n",
       "      <td>-0.000189</td>\n",
       "    </tr>\n",
       "    <tr>\n",
       "      <th>gender</th>\n",
       "      <td>0.056183</td>\n",
       "      <td>-0.049244</td>\n",
       "      <td>-0.014422</td>\n",
       "      <td>0.006231</td>\n",
       "      <td>0.022576</td>\n",
       "      <td>-0.046627</td>\n",
       "      <td>1.000000</td>\n",
       "      <td>-0.017644</td>\n",
       "    </tr>\n",
       "    <tr>\n",
       "      <th>category</th>\n",
       "      <td>0.015408</td>\n",
       "      <td>0.037118</td>\n",
       "      <td>0.012047</td>\n",
       "      <td>-0.054699</td>\n",
       "      <td>-0.116312</td>\n",
       "      <td>-0.000189</td>\n",
       "      <td>-0.017644</td>\n",
       "      <td>1.000000</td>\n",
       "    </tr>\n",
       "  </tbody>\n",
       "</table>\n",
       "</div>"
      ],
      "text/plain": [
       "               userId  timestamp    review      item    rating  helpfulness  \\\n",
       "userId       1.000000  -0.036399  0.013212 -0.002618  0.010844    -0.016841   \n",
       "timestamp   -0.036399   1.000000 -0.025036  0.024337  0.011579     0.003638   \n",
       "review       0.013212  -0.025036  1.000000  0.168119 -0.046935     0.016170   \n",
       "item        -0.002618   0.024337  0.168119  1.000000  0.013629    -0.010780   \n",
       "rating       0.010844   0.011579 -0.046935  0.013629  1.000000    -0.016850   \n",
       "helpfulness -0.016841   0.003638  0.016170 -0.010780 -0.016850     1.000000   \n",
       "gender       0.056183  -0.049244 -0.014422  0.006231  0.022576    -0.046627   \n",
       "category     0.015408   0.037118  0.012047 -0.054699 -0.116312    -0.000189   \n",
       "\n",
       "               gender  category  \n",
       "userId       0.056183  0.015408  \n",
       "timestamp   -0.049244  0.037118  \n",
       "review      -0.014422  0.012047  \n",
       "item         0.006231 -0.054699  \n",
       "rating       0.022576 -0.116312  \n",
       "helpfulness -0.046627 -0.000189  \n",
       "gender       1.000000 -0.017644  \n",
       "category    -0.017644  1.000000  "
      ]
     },
     "execution_count": 7,
     "metadata": {},
     "output_type": "execute_result"
    }
   ],
   "source": [
    "# Finding correlation between features\n",
    "\n",
    "df.corr()"
   ]
  },
  {
   "cell_type": "code",
   "execution_count": 8,
   "id": "edc8c578",
   "metadata": {
    "scrolled": true
   },
   "outputs": [
    {
     "name": "stdout",
     "output_type": "stream",
     "text": [
      "AxesSubplot(0.125,0.125;0.62x0.755)\n"
     ]
    },
    {
     "data": {
      "image/png": "[encoded data removed]",
      "text/plain": [
       "<Figure size 432x288 with 2 Axes>"
      ]
     },
     "metadata": {
      "needs_background": "light"
     },
     "output_type": "display_data"
    }
   ],
   "source": [
    "df1= sns.heatmap(df.corr())\n",
    "print(df1)"
   ]
  },
  {
   "cell_type": "markdown",
   "id": "3b2bcc17",
   "metadata": {},
   "source": [
    "### Correlation Analysis\n",
    "\n",
    "Most correlated features- Review and Item\n",
    "\n",
    "\n",
    "\n",
    "Least correlated features- Category & Helpfulness"
   ]
  },
  {
   "cell_type": "code",
   "execution_count": 9,
   "id": "78a892ca",
   "metadata": {},
   "outputs": [
    {
     "name": "stdout",
     "output_type": "stream",
     "text": [
      "Train shape- (2319, 8)\n",
      "Test shape- (580, 8)\n"
     ]
    }
   ],
   "source": [
    "# Splitting train and test sets\n",
    "\n",
    "train, test= train_test_split(df, test_size=0.2, random_state=0)\n",
    "print(\"Train shape-\", train.shape)\n",
    "print(\"Test shape-\", test.shape)"
   ]
  },
  {
   "cell_type": "code",
   "execution_count": 10,
   "id": "d74dba46",
   "metadata": {},
   "outputs": [
    {
     "data": {
      "text/plain": [
       "LogisticRegression()"
      ]
     },
     "execution_count": 10,
     "metadata": {},
     "output_type": "execute_result"
    }
   ],
   "source": [
    "# Training the Regression model with most important features\n",
    "\n",
    "X_train = train[['review', 'item', 'gender', 'category', 'helpfulness']]\n",
    "y_train = train['rating']\n",
    "\n",
    "X_test = test[['review', 'item', 'gender', 'category', 'helpfulness']]\n",
    "y_test = test['rating']\n",
    "\n",
    "\n",
    "model = LogisticRegression()\n",
    "model.fit(X_train, y_train)"
   ]
  },
  {
   "cell_type": "code",
   "execution_count": 11,
   "id": "4c8a5ff9",
   "metadata": {},
   "outputs": [
    {
     "name": "stdout",
     "output_type": "stream",
     "text": [
      "MSE: 0.3741379310344828\n",
      "Root MSE: 0.6116681543406381\n",
      "R Squared: -0.6100599966739584\n",
      "Accuracy score: 0.6258620689655172\n"
     ]
    }
   ],
   "source": [
    "# Analysing the accuracy of the Regression model\n",
    "\n",
    "reg = linear_model.LogisticRegression()\n",
    "reg.fit(X_train, y_train)\n",
    "predicted = reg.predict(X_test)\n",
    "mse = ((np.array(y_test)-predicted)**2).sum()/len(y_test)\n",
    "r2 = r2_score(y_test, predicted)\n",
    "print(\"MSE:\", mse)\n",
    "print(\"Root MSE:\", np.sqrt(mse))\n",
    "print(\"R Squared:\", r2)\n",
    "print(\"Accuracy score:\", accuracy_score(y_test, predicted))"
   ]
  },
  {
   "cell_type": "code",
   "execution_count": 12,
   "id": "d7fac2b9",
   "metadata": {},
   "outputs": [
    {
     "data": {
      "text/plain": [
       "KNeighborsClassifier()"
      ]
     },
     "execution_count": 12,
     "metadata": {},
     "output_type": "execute_result"
    }
   ],
   "source": [
    "# Training the KNN model\n",
    "\n",
    "# Creating KNN classifier\n",
    "knn5 = KNeighborsClassifier(n_neighbors=5)\n",
    "\n",
    "# Fit the classifier to the data\n",
    "knn5.fit(X_train,y_train)\n"
   ]
  },
  {
   "cell_type": "code",
   "execution_count": 13,
   "id": "c3b09766",
   "metadata": {},
   "outputs": [
    {
     "name": "stdout",
     "output_type": "stream",
     "text": [
      "              precision    recall  f1-score   support\n",
      "\n",
      "           0       0.17      0.00      0.01       213\n",
      "           1       0.63      0.99      0.77       367\n",
      "\n",
      "    accuracy                           0.63       580\n",
      "   macro avg       0.40      0.50      0.39       580\n",
      "weighted avg       0.46      0.63      0.49       580\n",
      "\n"
     ]
    },
    {
     "data": {
      "text/plain": [
       "0.49553542873955814"
      ]
     },
     "execution_count": 13,
     "metadata": {},
     "output_type": "execute_result"
    }
   ],
   "source": [
    "# Predicting test data set\n",
    "y_pred = model.predict(X_test)\n",
    "\n",
    "# Checking the performance of our model with classification report.\n",
    "print(classification_report(y_test, y_pred))\n",
    "\n",
    "# Checking the performance of our model with ROC Score.\n",
    "roc_auc_score(y_test, y_pred)"
   ]
  },
  {
   "cell_type": "code",
   "execution_count": 17,
   "id": "66b316de",
   "metadata": {},
   "outputs": [
    {
     "data": {
      "text/plain": [
       "GridSearchCV(cv=5, estimator=KNeighborsClassifier(),\n",
       "             param_grid={'n_neighbors': range(1, 100)}, scoring='accuracy')"
      ]
     },
     "execution_count": 17,
     "metadata": {},
     "output_type": "execute_result"
    }
   ],
   "source": [
    "# Hyperparameter that we want to tune\n",
    "parameter_grid = {\"n_neighbors\" : range(1,100)}\n",
    "\n",
    "\n",
    "# Create new KNN object\n",
    "knn_best = KNeighborsClassifier()\n",
    "\n",
    "# Using GridsearchCV\n",
    "knn_best_tune= GridSearchCV(knn_best, parameter_grid, scoring = \"accuracy\", cv = 5)\n",
    "\n",
    "# Fitting the classifier into the data\n",
    "knn_best_tune.fit(X_train, y_train)"
   ]
  },
  {
   "cell_type": "code",
   "execution_count": 18,
   "id": "e415d10c",
   "metadata": {},
   "outputs": [
    {
     "data": {
      "text/plain": [
       "{'n_neighbors': 92}"
      ]
     },
     "execution_count": 18,
     "metadata": {},
     "output_type": "execute_result"
    }
   ],
   "source": [
    "# Printing the value of best Hyperparameter\n",
    "\n",
    "knn_best_tune.best_params_"
   ]
  },
  {
   "cell_type": "code",
   "execution_count": 19,
   "id": "16a23b67",
   "metadata": {},
   "outputs": [
    {
     "data": {
      "text/plain": [
       "0.6395006330528041"
      ]
     },
     "execution_count": 19,
     "metadata": {},
     "output_type": "execute_result"
    }
   ],
   "source": [
    "# New accuracy score\n",
    "\n",
    "knn_best_tune.best_score_"
   ]
  },
  {
   "cell_type": "markdown",
   "id": "d61facf7",
   "metadata": {},
   "source": [
    "### Conclusion Analysis\n",
    "- Both the models have their advantages and disadvantages.\n",
    "- From the Logistic regression model, we get the accuracy score of- 62%\n",
    "- From the KNN model with neihbor= 5, we get the score of around 50%\n",
    "- After tuning the hyperparameter(K), in our KNN model, we get the accuracy score of around 64%\n",
    "\n",
    "- Very little improvement compared to Logistic Regression model, and a decent accuracy overall.\n",
    "- However, based on the hyperparameters with best score, we know it's possible to achieve an accuracy score of 64%.\n",
    "- In comparision, the KNN model produced the least accuracy score as compared to our Logistic Regression model.\n",
    "- Overall, hyperparameters are able to help increase the accuracy score of our models and predict the dataset better."
   ]
  }
 ],
 "metadata": {
  "kernelspec": {
   "display_name": "Python 3 (ipykernel)",
   "language": "python",
   "name": "python3"
  },
  "language_info": {
   "codemirror_mode": {
    "name": "ipython",
    "version": 3
   },
   "file_extension": ".py",
   "mimetype": "text/x-python",
   "name": "python",
   "nbconvert_exporter": "python",
   "pygments_lexer": "ipython3",
   "version": "3.9.12"
  }
 },
 "nbformat": 4,
 "nbformat_minor": 5
}
