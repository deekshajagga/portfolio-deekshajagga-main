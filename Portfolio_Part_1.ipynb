{
 "cells": [
  {
   "cell_type": "markdown",
   "id": "c6403a90",
   "metadata": {},
   "source": [
    "### Analysis of Epinions Data\n",
    "\n",
    "We are provided with the Epinions data collected through a general consumer review web site Epinions.com. Each user on the site can rate and post a review for products (items) and other users would rate the review to show the helpfulness of the review.\n",
    "In this data, for each user, we have user ID, gender, ratings (1-5) and reviews towards the products they bought. For each rating, we have the product name and its category, the rating score, the time point when the rating is created, and the helpfulness (1-5) of this rating.\n",
    "\n",
    "Originally, there are several separate files to record the user-item rating info, user demographic info and item descriptive info, we have conducted preliminary processing to map and merge the data into one csv file named 'Epinions_test_data.csv'. The header of the csv file is shown below. \n",
    "\n",
    "\n",
    "| userId | gender | rating | review| item | category | helpfulness | timestamp |\n",
    "    | ---- | ---- | ---- | ---- | ---- | ---- | ---- | ---- | \n",
    "    \n",
    "#### Description of Fields\n",
    "\n",
    "* __userId__ - the user's id\n",
    "* __gender__ - the user's gender\n",
    "* __item__ - the product's name\n",
    "* __category__ - the category of the item\n",
    "* __rating__ - the user's rating towards the item\n",
    "* __review__ - the user's review towards the item\n",
    "* __helpfulness__ - the helpfulness of this rating\n",
    "* __timestamp__ - the timestamp when the rating is created\n",
    "\n",
    "Note that, a same user (i.e., a same userId) corresponds to a same gender; a same item corresponds to a same category; a same user (i.e., a same userId) may rate multiple items; a same item may receive ratings and reviews from multiple users and each review is associted with a single helpfulness value calculated based on the feedbacks from other users.\n",
    "\n",
    "There are four questions to explore with the data as shown below."
   ]
  },
  {
   "cell_type": "markdown",
   "id": "005f45fd",
   "metadata": {},
   "source": [
    " #### Q1. Remove missing data\n",
    " \n",
    "Please remove the following records in the csv file: \n",
    " \n",
    " * gender/rating/helpfulness is missing\n",
    " * review is 'none'\n",
    "\n",
    "__Display the DataFrame, counting number of Null values in each column, and print the length of the data__ before and after removing the missing data.  "
   ]
  },
  {
   "cell_type": "code",
   "execution_count": 3,
   "id": "a3f9bc3a",
   "metadata": {},
   "outputs": [
    {
     "name": "stdout",
     "output_type": "stream",
     "text": [
      "      userId gender                                       item  rating  \\\n",
      "0       1324      F                                        NBC     5.0   \n",
      "1      10222      M                                    NetFlix     2.0   \n",
      "2       2777      M                                Toy Story 2     4.0   \n",
      "3      11763      M                                 Fight Club     5.0   \n",
      "4       6003      M                              Quicken Loans     5.0   \n",
      "...      ...    ...                                        ...     ...   \n",
      "9995    5212      F                              Perfect Storm     4.0   \n",
      "9996    5212      F                          What Lies Beneath     2.0   \n",
      "9997    5319      M                                  Gladiator     5.0   \n",
      "9998    5319      F  The Sims 2: Open for Business for Windows     5.0   \n",
      "9999    7606      F                      Alta Vista (by 1stUp)     1.0   \n",
      "\n",
      "                                                 review  helpfulness  \\\n",
      "0                            They made it after all....          4.0   \n",
      "1         Don't Bother Unless you live in a remote area          2.0   \n",
      "2                          Good for adults and children          4.0   \n",
      "3             I wish I wasn't hesitant about this movie          4.0   \n",
      "4     Used Quicken Loans to save time and money on r...          5.0   \n",
      "...                                                 ...          ...   \n",
      "9995                          Fantastic Special Effects          3.0   \n",
      "9996                                   Very Predictable          1.0   \n",
      "9997                           The best ever movie made          4.0   \n",
      "9998                       Sims - build your dream city          6.0   \n",
      "9999    Why not to use Altavista &amp; other free isp's          1.0   \n",
      "\n",
      "      timestamp                  category  \n",
      "0         21400                     Media  \n",
      "1         41604  Online Stores & Services  \n",
      "2         10200                    Movies  \n",
      "3         70100                    Movies  \n",
      "4         72103          Personal Finance  \n",
      "...         ...                       ...  \n",
      "9995      81000                    Movies  \n",
      "9996      81000                    Movies  \n",
      "9997     122500                    Movies  \n",
      "9998     122500                     Games  \n",
      "9999      13100  Online Stores & Services  \n",
      "\n",
      "[10000 rows x 8 columns]\n",
      "\n",
      "\n",
      "Null values in gender- 27\n",
      "Null values in rating- 31\n",
      "Null values in helpfulness- 26\n",
      "None value in review- 27\n",
      "\n",
      "\n",
      "Length of data- 10000\n"
     ]
    }
   ],
   "source": [
    "#Displaying the data frame\n",
    "import pandas as pd\n",
    "import matplotlib.pyplot as plt\n",
    "df = pd.read_csv (r'C:\\Users\\hp\\Documents\\GitHub\\portfolio-deekshajagga-main\\Epinions_test_data.csv')\n",
    "print(df)\n",
    "\n",
    "print('\\n')\n",
    "\n",
    "#Counting null values\n",
    "\n",
    "#Gender\n",
    "gender= df['gender'].isna().sum()\n",
    "\n",
    "#Rating\n",
    "rating= df['rating'].isna().sum()\n",
    "\n",
    "#helpfulness\n",
    "helpfulness= df['helpfulness'].isna().sum()\n",
    "\n",
    "print(\"Null values in gender-\", gender)\n",
    "print(\"Null values in rating-\", rating)\n",
    "print(\"Null values in helpfulness-\", helpfulness)\n",
    "\n",
    "#Review\n",
    "print (\"None value in review-\", (df['review']=='none').sum())\n",
    "\n",
    "print('\\n')\n",
    "\n",
    "#Length of data\n",
    "print (\"Length of data-\", len(df))\n",
    "\n"
   ]
  },
  {
   "cell_type": "code",
   "execution_count": 5,
   "id": "f1ac2e51",
   "metadata": {},
   "outputs": [
    {
     "name": "stdout",
     "output_type": "stream",
     "text": [
      "      userId gender                                       item  rating  \\\n",
      "0       1324      F                                        NBC     5.0   \n",
      "1      10222      M                                    NetFlix     2.0   \n",
      "2       2777      M                                Toy Story 2     4.0   \n",
      "3      11763      M                                 Fight Club     5.0   \n",
      "4       6003      M                              Quicken Loans     5.0   \n",
      "...      ...    ...                                        ...     ...   \n",
      "9995    5212      F                              Perfect Storm     4.0   \n",
      "9996    5212      F                          What Lies Beneath     2.0   \n",
      "9997    5319      M                                  Gladiator     5.0   \n",
      "9998    5319      F  The Sims 2: Open for Business for Windows     5.0   \n",
      "9999    7606      F                      Alta Vista (by 1stUp)     1.0   \n",
      "\n",
      "                                                 review  helpfulness  \\\n",
      "0                            They made it after all....          4.0   \n",
      "1         Don't Bother Unless you live in a remote area          2.0   \n",
      "2                          Good for adults and children          4.0   \n",
      "3             I wish I wasn't hesitant about this movie          4.0   \n",
      "4     Used Quicken Loans to save time and money on r...          5.0   \n",
      "...                                                 ...          ...   \n",
      "9995                          Fantastic Special Effects          3.0   \n",
      "9996                                   Very Predictable          1.0   \n",
      "9997                           The best ever movie made          4.0   \n",
      "9998                       Sims - build your dream city          6.0   \n",
      "9999    Why not to use Altavista &amp; other free isp's          1.0   \n",
      "\n",
      "      timestamp                  category  \n",
      "0         21400                     Media  \n",
      "1         41604  Online Stores & Services  \n",
      "2         10200                    Movies  \n",
      "3         70100                    Movies  \n",
      "4         72103          Personal Finance  \n",
      "...         ...                       ...  \n",
      "9995      81000                    Movies  \n",
      "9996      81000                    Movies  \n",
      "9997     122500                    Movies  \n",
      "9998     122500                     Games  \n",
      "9999      13100  Online Stores & Services  \n",
      "\n",
      "[9890 rows x 8 columns]\n",
      "\n",
      "\n",
      "Null values in gender after removing- 0\n",
      "Null values in rating after removing- 0\n",
      "Null values in helpfulness after removing- 0\n",
      "\n",
      "\n",
      "Length of data after removing null values- 9890\n"
     ]
    }
   ],
   "source": [
    "#Removing the data\n",
    "df1 = df.dropna(subset=['gender', 'helpfulness', 'rating'])\n",
    "df2= df1.drop(df1[df1.review==\"none\"].index)\n",
    "\n",
    "#Displaying the data frame\n",
    "print(df2)\n",
    "\n",
    "print('\\n')\n",
    "\n",
    "#Counting null values\n",
    "\n",
    "#Gender\n",
    "gender= df2['gender'].isna().sum()\n",
    "\n",
    "#Rating\n",
    "rating= df2['rating'].isna().sum()\n",
    "\n",
    "#helpfulness\n",
    "helpfulness= df2['helpfulness'].isna().sum()\n",
    "\n",
    "print(\"Null values in gender after removing-\", gender)\n",
    "print(\"Null values in rating after removing-\", rating)\n",
    "print(\"Null values in helpfulness after removing-\", helpfulness)\n",
    "\n",
    "print('\\n')\n",
    "\n",
    "#Length of data\n",
    "\n",
    "print (\"Length of data after removing null values-\", len(df2))"
   ]
  },
  {
   "cell_type": "markdown",
   "id": "8e8414dc",
   "metadata": {},
   "source": [
    "#### Q2. Descriptive statistics\n",
    "\n",
    "With the cleaned data in Q1, please provide the data summarization as below:\n",
    "\n",
    "* Q2.1 total number of unique users, unique reviews, unique items, and unique categories\n",
    "* Q2.2 descriptive statistics, e.g., the total number, mean, std, min and max regarding all rating records\n",
    "* Q2.3 descriptive statistics, e.g., mean, std, max, and min of the number of items rated by different genders \n",
    "* Q2.4 descriptive statistics, e.g., mean, std, max, min of the number of ratings that received by each items \n"
   ]
  },
  {
   "cell_type": "code",
   "execution_count": 77,
   "id": "50d4e49b",
   "metadata": {},
   "outputs": [
    {
     "name": "stdout",
     "output_type": "stream",
     "text": [
      "Unique users- 4326\n",
      "Unique reviews- 9727\n",
      "Unique items- 89\n",
      "Unique categories- 9\n"
     ]
    }
   ],
   "source": [
    "#2.1\n",
    "## Unique users\n",
    "print (\"Unique users-\", df2['userId'].nunique())\n",
    "\n",
    "## Unique reviews\n",
    "print (\"Unique reviews-\", df2['review'].nunique())\n",
    "\n",
    "## Unique items\n",
    "print (\"Unique items-\", df2['item'].nunique())\n",
    "\n",
    "## Unique categories\n",
    "print (\"Unique categories-\", df2['category'].nunique())"
   ]
  },
  {
   "cell_type": "code",
   "execution_count": 76,
   "id": "1db8b326",
   "metadata": {},
   "outputs": [
    {
     "name": "stdout",
     "output_type": "stream",
     "text": [
      "Total number of rating records- 9890\n",
      "Mean of ratings- 3.701516683518706\n",
      "Standard Deviation of rating records- 1.3870264508440455\n",
      "Minimum & Maximum regarding all rating records- 1.0 , 5.0\n"
     ]
    }
   ],
   "source": [
    "#2.2\n",
    "## Total number of rating records\n",
    "print (\"Total number of rating records-\", len(df2.rating))\n",
    "\n",
    "## Mean of rating records\n",
    "print (\"Mean of ratings-\", df2.rating.mean())\n",
    "\n",
    "## Standard Deviation of rating records\n",
    "print (\"Standard Deviation of rating records-\", df2.rating.std())\n",
    "\n",
    "## Minimum & Maximum regarding all rating records\n",
    "print (\"Minimum & Maximum regarding all rating records-\", df2.rating.min(), \",\", df2.rating.max())"
   ]
  },
  {
   "cell_type": "code",
   "execution_count": 75,
   "id": "f369a5d8",
   "metadata": {},
   "outputs": [
    {
     "name": "stdout",
     "output_type": "stream",
     "text": [
      "Mean of Male ratings- 3.6906474820143886\n",
      "Mean of Female ratings- 3.712039800995025\n",
      "Standard Deviation of Male rating records- 1.3861260726924873\n",
      "Standard Deviation of Female rating records- 1.3879544352532596\n",
      "Minimum & Maximum regarding male rating records- 1.0 , 5.0\n",
      "Minimum & Maximum regarding female rating records- 1.0 , 5.0\n"
     ]
    }
   ],
   "source": [
    "#2.3\n",
    "male= (df2[df2.gender==\"M\"])\n",
    "female= (df2[df2.gender==\"F\"])\n",
    "\n",
    "## Mean of rating records by gender\n",
    "print (\"Mean of Male ratings-\", male.rating.mean())\n",
    "print (\"Mean of Female ratings-\", female.rating.mean())\n",
    "\n",
    "## Standard Deviation of rating records by gender\n",
    "print (\"Standard Deviation of Male rating records-\", male.rating.std())\n",
    "print (\"Standard Deviation of Female rating records-\", female.rating.std())\n",
    "\n",
    "## Minimum & Maximum regarding rating records by gender\n",
    "print (\"Minimum & Maximum regarding male rating records-\", male.rating.min(), \",\", male.rating.max())\n",
    "print (\"Minimum & Maximum regarding female rating records-\", female.rating.min(), \",\", female.rating.max())"
   ]
  },
  {
   "cell_type": "code",
   "execution_count": 93,
   "id": "ed01de4a",
   "metadata": {},
   "outputs": [
    {
     "name": "stdout",
     "output_type": "stream",
     "text": [
      "Mean of rating records by items\n",
      "item\n",
      "AOL (America Online)     2.538117\n",
      "All Advantage            3.539216\n",
      "Alta Vista (by 1stUp)    3.369048\n",
      "Amazon.com               3.836364\n",
      "American Airlines        3.163043\n",
      "                           ...   \n",
      "Wendy's                  4.102273\n",
      "What Lies Beneath        3.576471\n",
      "X-Men                    4.033058\n",
      "X.com                    3.892473\n",
      "eBay                     4.352542\n",
      "Name: rating, Length: 89, dtype: float64\n",
      "\n",
      "\n",
      "Standard Deviation of rating records by items\n",
      "item\n",
      "AOL (America Online)     1.339841\n",
      "All Advantage            1.466600\n",
      "Alta Vista (by 1stUp)    1.369018\n",
      "Amazon.com               1.455942\n",
      "American Airlines        1.477131\n",
      "                           ...   \n",
      "Wendy's                  1.155096\n",
      "What Lies Beneath        1.189002\n",
      "X-Men                    0.893811\n",
      "X.com                    1.528443\n",
      "eBay                     0.935570\n",
      "Name: rating, Length: 89, dtype: float64\n",
      "\n",
      "\n",
      "Minimum & Maximum regarding rating records by gender\n",
      "\n",
      "\n",
      "Minimum\n",
      "item\n",
      "AOL (America Online)     1.0\n",
      "All Advantage            1.0\n",
      "Alta Vista (by 1stUp)    1.0\n",
      "Amazon.com               1.0\n",
      "American Airlines        1.0\n",
      "                        ... \n",
      "Wendy's                  1.0\n",
      "What Lies Beneath        1.0\n",
      "X-Men                    1.0\n",
      "X.com                    1.0\n",
      "eBay                     1.0\n",
      "Name: rating, Length: 89, dtype: float64\n",
      "\n",
      "\n",
      "Maximum\n",
      "item\n",
      "AOL (America Online)     5.0\n",
      "All Advantage            5.0\n",
      "Alta Vista (by 1stUp)    5.0\n",
      "Amazon.com               5.0\n",
      "American Airlines        5.0\n",
      "                        ... \n",
      "Wendy's                  5.0\n",
      "What Lies Beneath        5.0\n",
      "X-Men                    5.0\n",
      "X.com                    5.0\n",
      "eBay                     5.0\n",
      "Name: rating, Length: 89, dtype: float64\n"
     ]
    }
   ],
   "source": [
    "#2.4\n",
    "## Mean of rating records by items\n",
    "print(\"Mean of rating records by items\")\n",
    "print (df2.groupby(['item'])['rating'].mean())\n",
    "\n",
    "print('\\n')\n",
    "\n",
    "## Standard Deviation of rating records by item\n",
    "print(\"Standard Deviation of rating records by items\")\n",
    "print (df2.groupby(['item'])['rating'].std())\n",
    "\n",
    "print('\\n')\n",
    "\n",
    "## Minimum & Maximum regarding rating records by item\n",
    "print(\"Minimum & Maximum regarding rating records by gender\")\n",
    "print (\"Minimum\")\n",
    "print (df2.groupby(['item'])['rating'].min())\n",
    "\n",
    "print('\\n')\n",
    "\n",
    "print(\"Maximum\")\n",
    "print (df2.groupby(['item'])['rating'].max())"
   ]
  },
  {
   "cell_type": "markdown",
   "id": "30c5ef02",
   "metadata": {},
   "source": [
    "#### Q3. Plotting and Analysis\n",
    "\n",
    "Please try to explore the correlation between gender/helpfulness/category and ratings; for instance, do female/male users tend to provide higher ratings than male/female users? Hint: you may use the boxplot function to plot figures for comparison (___Challenge___)\n",
    "    \n",
    "You may need to select the most suitable graphic forms for ease of presentation. Most importantly, for each figure or subfigure, please summarise ___what each plot shows___ (i.e. observations and explanations). Finally, you may need to provide an overall summary of the data."
   ]
  },
  {
   "cell_type": "code",
   "execution_count": 14,
   "id": "c609b082",
   "metadata": {},
   "outputs": [
    {
     "data": {
      "text/plain": [
       "(array([1, 2]), [Text(1, 0, 'F'), Text(2, 0, 'M')])"
      ]
     },
     "execution_count": 14,
     "metadata": {},
     "output_type": "execute_result"
    },
    {
     "data": {
      "image/png": "[encoded data removed]",
      "text/plain": [
       "<Figure size 432x288 with 1 Axes>"
      ]
     },
     "metadata": {
      "needs_background": "light"
     },
     "output_type": "display_data"
    }
   ],
   "source": [
    "#Correlation between gender and ratings\n",
    "df2.boxplot(\"rating\", by=\"gender\")\n",
    "plt.xticks(rotation=90)"
   ]
  },
  {
   "cell_type": "markdown",
   "id": "aaee60db",
   "metadata": {},
   "source": [
    "### Observations\n",
    "- The ratings regardless of the gender are quite similar and symmetrical in nature.\n",
    "- The measures of central tendencies of both the genders are quite the same. \n",
    "- The different gender values do not seem to affect the ratings at all. Hence, no correlation exists between gender and ratings. "
   ]
  },
  {
   "cell_type": "code",
   "execution_count": 15,
   "id": "c630bb8b",
   "metadata": {},
   "outputs": [
    {
     "data": {
      "text/plain": [
       "(array([1, 2, 3, 4, 5, 6]),\n",
       " [Text(1, 0, '1.0'),\n",
       "  Text(2, 0, '2.0'),\n",
       "  Text(3, 0, '3.0'),\n",
       "  Text(4, 0, '4.0'),\n",
       "  Text(5, 0, '5.0'),\n",
       "  Text(6, 0, '6.0')])"
      ]
     },
     "execution_count": 15,
     "metadata": {},
     "output_type": "execute_result"
    },
    {
     "data": {
      "image/png": "[encoded data removed]",
      "text/plain": [
       "<Figure size 432x288 with 1 Axes>"
      ]
     },
     "metadata": {
      "needs_background": "light"
     },
     "output_type": "display_data"
    }
   ],
   "source": [
    "#Correlation between helpfulness and ratings\n",
    "df2.boxplot(\"rating\", by=\"helpfulness\")\n",
    "plt.xticks(rotation=90)"
   ]
  },
  {
   "cell_type": "markdown",
   "id": "fce3f77c",
   "metadata": {},
   "source": [
    "### Observations\n",
    "- It's abundantly clear from the boxplot that there is a direct correlation between helpfulness and ratings.\n",
    "- With increase in helpfulness of the individual, their rating tends to go up as well. \n",
    "- All individuals with higher value of helpfulness, have high ratings."
   ]
  },
  {
   "cell_type": "code",
   "execution_count": 16,
   "id": "b60c5ca6",
   "metadata": {},
   "outputs": [
    {
     "data": {
      "text/plain": [
       "(array([1, 2, 3, 4, 5, 6, 7, 8, 9]),\n",
       " [Text(1, 0, 'Books'),\n",
       "  Text(2, 0, 'Games'),\n",
       "  Text(3, 0, 'Hotels & Travel'),\n",
       "  Text(4, 0, 'Kids & Family'),\n",
       "  Text(5, 0, 'Media'),\n",
       "  Text(6, 0, 'Movies'),\n",
       "  Text(7, 0, 'Online Stores & Services'),\n",
       "  Text(8, 0, 'Personal Finance'),\n",
       "  Text(9, 0, 'Restaurants & Gourmet')])"
      ]
     },
     "execution_count": 16,
     "metadata": {},
     "output_type": "execute_result"
    },
    {
     "data": {
      "image/png": "[encoded data removed]",
      "text/plain": [
       "<Figure size 432x288 with 1 Axes>"
      ]
     },
     "metadata": {
      "needs_background": "light"
     },
     "output_type": "display_data"
    }
   ],
   "source": [
    "# Correlation between Category and ratings\n",
    "df2.boxplot(\"rating\", by=\"category\")\n",
    "plt.xticks(rotation=90)"
   ]
  },
  {
   "cell_type": "markdown",
   "id": "0fb9db36",
   "metadata": {},
   "source": [
    "### Observations\n",
    "- There doesn't seem to be any direct/indirect correlation between category and ratings. \n",
    "- However, there are quite a few outliers in the Books and Games categories.\n",
    "- Overall, the rating distribution of almost all the categories are quite similar. \n",
    "- Ratings of the Media category is significantly less than the others. \n",
    "- The impact of category on ratings is similar to as that of gender, which is also quite limited. "
   ]
  },
  {
   "cell_type": "markdown",
   "id": "6f666cd3",
   "metadata": {},
   "source": [
    "### Summary Analysis\n",
    "- The dataset contains 4326 unique users' ratings, where the ratings range from 1 to 5; and the mean rating is around 3.7.\n",
    "- The features, i.e., gender, category are not correlated with ratings; where gender holds the worst case; this indicates it is not easy to infer rating with these features.\n",
    "- The feature helpfulness is directly correlated with ratings. \n",
    "- The dataset contains a small number of missing values, around 110 records;"
   ]
  },
  {
   "cell_type": "markdown",
   "id": "8c8b2e05",
   "metadata": {},
   "source": [
    "#### Q4. Detect and remove outliers\n",
    "\n",
    "We may define outlier users and items with three rules:\n",
    "\n",
    "* reviews of which helpfulness is no more than 2\n",
    "* users who rate less than 7 items\n",
    "* items that receives less than 11 ratings \n",
    " \n",
    "Please remove the corresponding records in the csv file that involves outlier users and items. After that, __print the length of the data__."
   ]
  },
  {
   "cell_type": "code",
   "execution_count": 16,
   "id": "3c03c1b1",
   "metadata": {},
   "outputs": [
    {
     "name": "stdout",
     "output_type": "stream",
     "text": [
      "Reviews whose helpfulness is no more than 2- 7562\n"
     ]
    }
   ],
   "source": [
    "# Removing reviews which helpfulness is no more than 2\n",
    "\n",
    "remove_outlier = df2.drop(df2.index[(df2['helpfulness'] <= 2)])\n",
    "print('Reviews whose helpfulness is no more than 2-', len(remove_outlier))"
   ]
  },
  {
   "cell_type": "code",
   "execution_count": 25,
   "id": "e03ef20d",
   "metadata": {},
   "outputs": [
    {
     "name": "stdout",
     "output_type": "stream",
     "text": [
      "Length of data after removing reviews with helpfulness less than 2- 3667\n"
     ]
    }
   ],
   "source": [
    "# User count after removing review with helpfulness no more than 2\n",
    "user_helpfulness= remove_outlier.groupby(remove_outlier['userId'])['rating'].count().reset_index(name='count')\n",
    "print(\"Length of data after removing reviews with helpfulness less than 2-\", len(user_helpfulness))"
   ]
  },
  {
   "cell_type": "code",
   "execution_count": 29,
   "id": "3f20ed8f",
   "metadata": {},
   "outputs": [
    {
     "data": {
      "text/html": [
       "<div>\n",
       "<style scoped>\n",
       "    .dataframe tbody tr th:only-of-type {\n",
       "        vertical-align: middle;\n",
       "    }\n",
       "\n",
       "    .dataframe tbody tr th {\n",
       "        vertical-align: top;\n",
       "    }\n",
       "\n",
       "    .dataframe thead th {\n",
       "        text-align: right;\n",
       "    }\n",
       "</style>\n",
       "<table border=\"1\" class=\"dataframe\">\n",
       "  <thead>\n",
       "    <tr style=\"text-align: right;\">\n",
       "      <th></th>\n",
       "      <th>userId</th>\n",
       "      <th>count</th>\n",
       "    </tr>\n",
       "  </thead>\n",
       "  <tbody>\n",
       "    <tr>\n",
       "      <th>0</th>\n",
       "      <td>3</td>\n",
       "      <td>3</td>\n",
       "    </tr>\n",
       "    <tr>\n",
       "      <th>1</th>\n",
       "      <td>4</td>\n",
       "      <td>3</td>\n",
       "    </tr>\n",
       "    <tr>\n",
       "      <th>2</th>\n",
       "      <td>7</td>\n",
       "      <td>1</td>\n",
       "    </tr>\n",
       "    <tr>\n",
       "      <th>3</th>\n",
       "      <td>10</td>\n",
       "      <td>1</td>\n",
       "    </tr>\n",
       "    <tr>\n",
       "      <th>4</th>\n",
       "      <td>12</td>\n",
       "      <td>1</td>\n",
       "    </tr>\n",
       "  </tbody>\n",
       "</table>\n",
       "</div>"
      ],
      "text/plain": [
       "   userId  count\n",
       "0       3      3\n",
       "1       4      3\n",
       "2       7      1\n",
       "3      10      1\n",
       "4      12      1"
      ]
     },
     "execution_count": 29,
     "metadata": {},
     "output_type": "execute_result"
    }
   ],
   "source": [
    "user_helpfulness.head()"
   ]
  },
  {
   "cell_type": "code",
   "execution_count": 37,
   "id": "ade389bc",
   "metadata": {},
   "outputs": [
    {
     "name": "stdout",
     "output_type": "stream",
     "text": [
      "135\n"
     ]
    }
   ],
   "source": [
    "# Number of users who rated greater than 7 items\n",
    "\n",
    "user_item= user_helpfulness[user_rating['count']>=7]['userId'].tolist()\n",
    "print (len(user_item))"
   ]
  },
  {
   "cell_type": "code",
   "execution_count": 39,
   "id": "76425764",
   "metadata": {},
   "outputs": [
    {
     "name": "stdout",
     "output_type": "stream",
     "text": [
      "Length after removing the users who rated less than 7 items- 1292\n"
     ]
    }
   ],
   "source": [
    "# Number of users who rated less than 7\n",
    "\n",
    "user_item_rate= remove_outlier[remove_outlier['userId'].isin(user_item)]\n",
    "print(\"Length after removing the users who rated less than 7 items-\", len(user_item_rate))"
   ]
  },
  {
   "cell_type": "code",
   "execution_count": 40,
   "id": "2ccfcbf6",
   "metadata": {},
   "outputs": [
    {
     "data": {
      "text/html": [
       "<div>\n",
       "<style scoped>\n",
       "    .dataframe tbody tr th:only-of-type {\n",
       "        vertical-align: middle;\n",
       "    }\n",
       "\n",
       "    .dataframe tbody tr th {\n",
       "        vertical-align: top;\n",
       "    }\n",
       "\n",
       "    .dataframe thead th {\n",
       "        text-align: right;\n",
       "    }\n",
       "</style>\n",
       "<table border=\"1\" class=\"dataframe\">\n",
       "  <thead>\n",
       "    <tr style=\"text-align: right;\">\n",
       "      <th></th>\n",
       "      <th>item</th>\n",
       "      <th>count</th>\n",
       "    </tr>\n",
       "  </thead>\n",
       "  <tbody>\n",
       "    <tr>\n",
       "      <th>0</th>\n",
       "      <td>AOL (America Online)</td>\n",
       "      <td>26</td>\n",
       "    </tr>\n",
       "    <tr>\n",
       "      <th>1</th>\n",
       "      <td>All Advantage</td>\n",
       "      <td>29</td>\n",
       "    </tr>\n",
       "    <tr>\n",
       "      <th>2</th>\n",
       "      <td>Alta Vista (by 1stUp)</td>\n",
       "      <td>3</td>\n",
       "    </tr>\n",
       "    <tr>\n",
       "      <th>3</th>\n",
       "      <td>Amazon.com</td>\n",
       "      <td>10</td>\n",
       "    </tr>\n",
       "    <tr>\n",
       "      <th>4</th>\n",
       "      <td>American Airlines</td>\n",
       "      <td>9</td>\n",
       "    </tr>\n",
       "  </tbody>\n",
       "</table>\n",
       "</div>"
      ],
      "text/plain": [
       "                    item  count\n",
       "0   AOL (America Online)     26\n",
       "1          All Advantage     29\n",
       "2  Alta Vista (by 1stUp)      3\n",
       "3             Amazon.com     10\n",
       "4      American Airlines      9"
      ]
     },
     "execution_count": 40,
     "metadata": {},
     "output_type": "execute_result"
    }
   ],
   "source": [
    "# Grouping items and rating\n",
    "\n",
    "group_item= user_item_rate.groupby(['item'])['rating'].count().reset_index(name='count')\n",
    "group_item.head()"
   ]
  },
  {
   "cell_type": "code",
   "execution_count": 42,
   "id": "31d795b5",
   "metadata": {},
   "outputs": [
    {
     "name": "stdout",
     "output_type": "stream",
     "text": [
      "Number of items that received more than 11 ratings- 57\n"
     ]
    }
   ],
   "source": [
    "# Number of items that received more than 11 ratings\n",
    "\n",
    "rate_item= group_item[group_item['count']>=11]['item'].tolist()\n",
    "print (\"Number of items that received more than 11 ratings-\", len(rate_item))"
   ]
  },
  {
   "cell_type": "code",
   "execution_count": 45,
   "id": "701f63de",
   "metadata": {},
   "outputs": [
    {
     "name": "stdout",
     "output_type": "stream",
     "text": [
      "Number of items that received less than 11 ratings- 1080\n"
     ]
    }
   ],
   "source": [
    "# Number of items that received less than 11 ratings\n",
    "\n",
    "item_rate= user_item_rate[user_item_rate['item'].isin(rate_item)]\n",
    "print (\"Number of items that received less than 11 ratings-\", len(item_rate))"
   ]
  },
  {
   "cell_type": "code",
   "execution_count": 47,
   "id": "596010a7",
   "metadata": {},
   "outputs": [],
   "source": [
    "# Exporting file into csv\n",
    "item_rate.to_csv('Epnions_test_data_clean.csv', index=False)"
   ]
  }
 ],
 "metadata": {
  "kernelspec": {
   "display_name": "Python 3 (ipykernel)",
   "language": "python",
   "name": "python3"
  },
  "language_info": {
   "codemirror_mode": {
    "name": "ipython",
    "version": 3
   },
   "file_extension": ".py",
   "mimetype": "text/x-python",
   "name": "python",
   "nbconvert_exporter": "python",
   "pygments_lexer": "ipython3",
   "version": "3.9.12"
  }
 },
 "nbformat": 4,
 "nbformat_minor": 5
}
